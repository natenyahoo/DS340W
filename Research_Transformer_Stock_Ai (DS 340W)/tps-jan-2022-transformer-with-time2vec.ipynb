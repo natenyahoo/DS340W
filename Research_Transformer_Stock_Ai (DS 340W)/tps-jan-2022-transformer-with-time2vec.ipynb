{
 "cells": [
  {
   "cell_type": "code",
   "execution_count": 1,
   "id": "75450f94",
   "metadata": {
    "_cell_guid": "b1076dfc-b9ad-4769-8c92-a6c4dae69d19",
    "_uuid": "8f2839f25d086af736a60e9eeb907d3b93b6e0e5",
    "execution": {
     "iopub.execute_input": "2022-01-24T23:48:38.290605Z",
     "iopub.status.busy": "2022-01-24T23:48:38.289362Z",
     "iopub.status.idle": "2022-01-24T23:48:38.304445Z",
     "shell.execute_reply": "2022-01-24T23:48:38.303624Z",
     "shell.execute_reply.started": "2022-01-24T23:41:54.690647Z"
    },
    "papermill": {
     "duration": 0.041071,
     "end_time": "2022-01-24T23:48:38.304656",
     "exception": false,
     "start_time": "2022-01-24T23:48:38.263585",
     "status": "completed"
    },
    "tags": []
   },
   "outputs": [
    {
     "name": "stdout",
     "output_type": "stream",
     "text": [
      "/kaggle/input/tabular-playground-series-jan-2022/sample_submission.csv\n",
      "/kaggle/input/tabular-playground-series-jan-2022/train.csv\n",
      "/kaggle/input/tabular-playground-series-jan-2022/test.csv\n"
     ]
    }
   ],
   "source": [
    "# This Python 3 environment comes with many helpful analytics libraries installed\n",
    "# It is defined by the kaggle/python Docker image: https://github.com/kaggle/docker-python\n",
    "# For example, here's several helpful packages to load\n",
    "\n",
    "import numpy as np # linear algebra\n",
    "import pandas as pd # data processing, CSV file I/O (e.g. pd.read_csv)\n",
    "\n",
    "# Input data files are available in the read-only \"../input/\" directory\n",
    "# For example, running this (by clicking run or pressing Shift+Enter) will list all files under the input directory\n",
    "\n",
    "import os\n",
    "for dirname, _, filenames in os.walk('/kaggle/input'):\n",
    "    for filename in filenames:\n",
    "        print(os.path.join(dirname, filename))\n",
    "\n",
    "# You can write up to 20GB to the current directory (/kaggle/working/) that gets preserved as output when you create a version using \"Save & Run All\" \n",
    "# You can also write temporary files to /kaggle/temp/, but they won't be saved outside of the current session"
   ]
  },
  {
   "cell_type": "code",
   "execution_count": 2,
   "id": "f9565d81",
   "metadata": {
    "execution": {
     "iopub.execute_input": "2022-01-24T23:48:38.353526Z",
     "iopub.status.busy": "2022-01-24T23:48:38.352723Z",
     "iopub.status.idle": "2022-01-24T23:48:45.477359Z",
     "shell.execute_reply": "2022-01-24T23:48:45.476749Z",
     "shell.execute_reply.started": "2022-01-24T23:41:54.718140Z"
    },
    "papermill": {
     "duration": 7.150988,
     "end_time": "2022-01-24T23:48:45.477505",
     "exception": false,
     "start_time": "2022-01-24T23:48:38.326517",
     "status": "completed"
    },
    "tags": []
   },
   "outputs": [],
   "source": [
    "import warnings\n",
    "import gc\n",
    "import tensorflow as tf\n",
    "import holidays\n",
    "\n",
    "from tensorflow.keras import layers\n",
    "from tensorflow import keras\n",
    "\n",
    "from sklearn.model_selection import train_test_split"
   ]
  },
  {
   "cell_type": "markdown",
   "id": "4b79352a",
   "metadata": {
    "papermill": {
     "duration": 0.021327,
     "end_time": "2022-01-24T23:48:45.520664",
     "exception": false,
     "start_time": "2022-01-24T23:48:45.499337",
     "status": "completed"
    },
    "tags": []
   },
   "source": [
    "# Transformer with TIME2VEC\n",
    "\n",
    "Here I tried a transformer model with almost nothing of preprocessing on the data. The results aren't that good yet, so next time\n",
    "I am going do some feature engineering, like adding information extracted from the dates, like holidays, weekends and month of the year for instance."
   ]
  },
  {
   "cell_type": "code",
   "execution_count": 3,
   "id": "a529479c",
   "metadata": {
    "execution": {
     "iopub.execute_input": "2022-01-24T23:48:45.571017Z",
     "iopub.status.busy": "2022-01-24T23:48:45.570318Z",
     "iopub.status.idle": "2022-01-24T23:48:45.572708Z",
     "shell.execute_reply": "2022-01-24T23:48:45.572093Z",
     "shell.execute_reply.started": "2022-01-24T23:42:01.661657Z"
    },
    "papermill": {
     "duration": 0.03085,
     "end_time": "2022-01-24T23:48:45.572846",
     "exception": false,
     "start_time": "2022-01-24T23:48:45.541996",
     "status": "completed"
    },
    "tags": []
   },
   "outputs": [],
   "source": [
    "def smape(y_true, y_pred):\n",
    "    y_true = tf.cast(y_true, tf.float32)\n",
    "    y_pred = tf.cast(y_pred, tf.float32)\n",
    "    num = tf.math.abs(tf.math.subtract(y_true, y_pred))\n",
    "    denom = tf.math.add(tf.math.abs(y_true), tf.math.abs(y_pred))\n",
    "    denom = tf.math.divide(denom,200.0)\n",
    "    \n",
    "    val = tf.math.divide(num,denom)\n",
    "    val = tf.where(denom == 0.0, 0.0, val) \n",
    "    return tf.reduce_mean(val)"
   ]
  },
  {
   "cell_type": "code",
   "execution_count": 4,
   "id": "566c268a",
   "metadata": {
    "execution": {
     "iopub.execute_input": "2022-01-24T23:48:45.627656Z",
     "iopub.status.busy": "2022-01-24T23:48:45.626345Z",
     "iopub.status.idle": "2022-01-24T23:48:45.628473Z",
     "shell.execute_reply": "2022-01-24T23:48:45.629086Z",
     "shell.execute_reply.started": "2022-01-24T23:42:01.669267Z"
    },
    "papermill": {
     "duration": 0.035236,
     "end_time": "2022-01-24T23:48:45.629265",
     "exception": false,
     "start_time": "2022-01-24T23:48:45.594029",
     "status": "completed"
    },
    "tags": []
   },
   "outputs": [],
   "source": [
    "def split_sequences(sequences, n_steps):\n",
    "\tX, y = list(), list()\n",
    "\tfor i in range(len(sequences)):\n",
    "\t\t# find the end of this pattern\n",
    "\t\tend_ix = i + n_steps\n",
    "\t\t# check if we are beyond the dataset\n",
    "\t\tif end_ix > len(sequences):\n",
    "\t\t\tbreak\n",
    "\t\t# gather input and output parts of the pattern\n",
    "\t\tseq_x, seq_y = sequences[i:end_ix, :-1], sequences[end_ix-1, -1]\n",
    "\t\tX.append(seq_x)\n",
    "\t\ty.append(seq_y)\n",
    "\treturn np.array(X), np.array(y)"
   ]
  },
  {
   "cell_type": "code",
   "execution_count": 5,
   "id": "5399e83c",
   "metadata": {
    "execution": {
     "iopub.execute_input": "2022-01-24T23:48:45.683272Z",
     "iopub.status.busy": "2022-01-24T23:48:45.680067Z",
     "iopub.status.idle": "2022-01-24T23:48:45.685960Z",
     "shell.execute_reply": "2022-01-24T23:48:45.685333Z",
     "shell.execute_reply.started": "2022-01-24T23:42:01.692242Z"
    },
    "papermill": {
     "duration": 0.035289,
     "end_time": "2022-01-24T23:48:45.686097",
     "exception": false,
     "start_time": "2022-01-24T23:48:45.650808",
     "status": "completed"
    },
    "tags": []
   },
   "outputs": [],
   "source": [
    "class Time2Vector(tf.keras.layers.Layer):\n",
    "    def __init__(self, seq_len, **kwargs):\n",
    "        super(Time2Vector, self).__init__()\n",
    "        self.seq_len = seq_len\n",
    "\n",
    "    def build(self, input_shape):\n",
    "        self.weights_linear = self.add_weight(name='weight_linear',\n",
    "                                    shape=(int(self.seq_len),),\n",
    "                                    initializer='uniform',\n",
    "                                    trainable=True)\n",
    "\n",
    "        self.bias_linear = self.add_weight(name='bias_linear',\n",
    "                                    shape=(int(self.seq_len),),\n",
    "                                    initializer='uniform',\n",
    "                                    trainable=True)\n",
    "\n",
    "        self.weights_periodic = self.add_weight(name='weight_periodic',\n",
    "                                    shape=(int(self.seq_len),),\n",
    "                                    initializer='uniform',\n",
    "                                    trainable=True)\n",
    "\n",
    "        self.bias_periodic = self.add_weight(name='bias_periodic',\n",
    "                                    shape=(int(self.seq_len),),\n",
    "                                    initializer='uniform',\n",
    "                                    trainable=True)\n",
    "\n",
    "    def call(self, x):\n",
    "        x = tf.math.reduce_mean(x[:,:,:], axis=-1) # Convert (batch, seq_len, 5) to (batch, seq_len)\n",
    "        time_linear = self.weights_linear * x + self.bias_linear\n",
    "        time_linear = tf.expand_dims(time_linear, axis=-1) # (batch, seq_len, 1)\n",
    "        time_periodic = tf.math.sin(tf.multiply(x, self.weights_periodic) + self.bias_periodic)\n",
    "        time_periodic = tf.expand_dims(time_periodic, axis=-1) # (batch, seq_len, 1)\n",
    "        return tf.concat([time_linear, time_periodic], axis=-1) # (batch, seq_len, 2"
   ]
  },
  {
   "cell_type": "code",
   "execution_count": 6,
   "id": "c21fcc81",
   "metadata": {
    "execution": {
     "iopub.execute_input": "2022-01-24T23:48:45.747595Z",
     "iopub.status.busy": "2022-01-24T23:48:45.746626Z",
     "iopub.status.idle": "2022-01-24T23:48:45.749230Z",
     "shell.execute_reply": "2022-01-24T23:48:45.748747Z",
     "shell.execute_reply.started": "2022-01-24T23:42:01.703615Z"
    },
    "papermill": {
     "duration": 0.041903,
     "end_time": "2022-01-24T23:48:45.749382",
     "exception": false,
     "start_time": "2022-01-24T23:48:45.707479",
     "status": "completed"
    },
    "tags": []
   },
   "outputs": [],
   "source": [
    "class TransformerEncoder(layers.Layer):\n",
    "    def __init__(self, embed_dim, num_heads, feed_forward_dim, rate=0.1):\n",
    "        super().__init__()\n",
    "        self.attn = layers.MultiHeadAttention(num_heads=num_heads, key_dim=embed_dim)\n",
    "        self.ffn = keras.Sequential(\n",
    "            [\n",
    "                layers.Dense(feed_forward_dim, activation=\"relu\"),\n",
    "                layers.Dense(embed_dim),\n",
    "            ]\n",
    "        )\n",
    "        self.layernorm1 = layers.LayerNormalization(epsilon=1e-6)\n",
    "        self.layernorm2 = layers.LayerNormalization(epsilon=1e-6)\n",
    "        self.dropout1 = layers.Dropout(rate)\n",
    "        self.dropout2 = layers.Dropout(rate)\n",
    "\n",
    "    def call(self, inputs, training):\n",
    "        attn_output = self.attn(inputs, inputs)\n",
    "        attn_output = self.dropout1(attn_output, training=training)\n",
    "        out1 = self.layernorm1(inputs + attn_output)\n",
    "        ffn_output = self.ffn(out1)\n",
    "        ffn_output = self.dropout2(ffn_output, training=training)\n",
    "        return self.layernorm2(out1 + ffn_output)\n",
    "\n",
    "\n",
    "class Transformer(keras.Model):\n",
    "    def __init__(\n",
    "            self,\n",
    "            num_hid=64, # embed_dim - num of features\n",
    "            time_steps=7,\n",
    "            num_head = 2,\n",
    "            num_feed_forward=128, # pointwise dim\n",
    "            num_layers_enc = 4,\n",
    "            time_embedding = False,\n",
    "    ):\n",
    "        super().__init__()\n",
    "        self.num_hid = num_hid\n",
    "        if time_embedding:\n",
    "            self.num_hid += 2\n",
    "            self.tv = Time2Vector(time_steps)\n",
    "        else:\n",
    "            self.tv = None\n",
    "        self.numlayers_enc = num_layers_enc\n",
    "        self.enc_input = layers.Input((time_steps, self.num_hid))\n",
    "        self.encoder = keras.Sequential(\n",
    "            [self.enc_input]\n",
    "            + [\n",
    "                TransformerEncoder(self.num_hid, num_head, num_feed_forward)\n",
    "                for _ in range(num_layers_enc)\n",
    "            ]\n",
    "        )\n",
    "        self.GlobalAveragePooling1D = layers.GlobalAveragePooling1D(data_format='channels_last')\n",
    "        self.out = layers.Dense(units=1, activation='linear')        \n",
    "        self.concat = tf.keras.layers.Concatenate(axis=-1)\n",
    "        \n",
    "    def call(self, inputs):\n",
    "        if self.tv:\n",
    "            x = self.tv(inputs)\n",
    "            x = self.concat([inputs, x])\n",
    "            x = self.encoder(x)\n",
    "        else:\n",
    "            x = self.encoder(inputs)\n",
    "        x = self.GlobalAveragePooling1D(x)\n",
    "        y = self.out(x)\n",
    "        return y"
   ]
  },
  {
   "cell_type": "code",
   "execution_count": 7,
   "id": "4d776a52",
   "metadata": {
    "execution": {
     "iopub.execute_input": "2022-01-24T23:48:45.795611Z",
     "iopub.status.busy": "2022-01-24T23:48:45.794927Z",
     "iopub.status.idle": "2022-01-24T23:48:45.802129Z",
     "shell.execute_reply": "2022-01-24T23:48:45.801612Z",
     "shell.execute_reply.started": "2022-01-24T23:42:01.720750Z"
    },
    "papermill": {
     "duration": 0.03154,
     "end_time": "2022-01-24T23:48:45.802269",
     "exception": false,
     "start_time": "2022-01-24T23:48:45.770729",
     "status": "completed"
    },
    "tags": []
   },
   "outputs": [],
   "source": [
    "def label_encoder(df):\n",
    "    country = {c : i for i, c in enumerate(df['country'].unique())}\n",
    "    store = {s : i for i, s in enumerate(df['store'].unique())}\n",
    "    product = {p : i for i, p in enumerate(df['product'].unique())}\n",
    "    df = df.copy()\n",
    "    df['country'] = df['country'].replace(country)\n",
    "    df['store'] = df['store'].replace(store)\n",
    "    df['product'] = df['product'].replace(product)\n",
    "    return df"
   ]
  },
  {
   "cell_type": "code",
   "execution_count": 8,
   "id": "a94e2f31",
   "metadata": {
    "execution": {
     "iopub.execute_input": "2022-01-24T23:48:45.852206Z",
     "iopub.status.busy": "2022-01-24T23:48:45.851511Z",
     "iopub.status.idle": "2022-01-24T23:48:45.853020Z",
     "shell.execute_reply": "2022-01-24T23:48:45.853527Z",
     "shell.execute_reply.started": "2022-01-24T23:42:01.735752Z"
    },
    "papermill": {
     "duration": 0.030033,
     "end_time": "2022-01-24T23:48:45.853715",
     "exception": false,
     "start_time": "2022-01-24T23:48:45.823682",
     "status": "completed"
    },
    "tags": []
   },
   "outputs": [],
   "source": [
    "# https://pandas.pydata.org/pandas-docs/stable/user_guide/timeseries.html\n",
    "def preprocess_dates(df):\n",
    "    df = df.copy()\n",
    "    df['date'] = pd.to_datetime(df['date'])\n",
    "    df['weekday'] = df['date'].dt.weekday\n",
    "    df['quarter'] = df['date'].dt.quarter\n",
    "    df['day_of_year'] = df['date'].dt.day_of_year\n",
    "    df['is_month_start'] = df['date'].dt.is_month_start.astype(\"int8\")\n",
    "    df['is_month_end'] = df['date'].dt.is_month_end.astype(\"int8\")\n",
    "    df['month'] = df['date'].dt.month\n",
    "    return df"
   ]
  },
  {
   "cell_type": "code",
   "execution_count": 9,
   "id": "f7d3f677",
   "metadata": {
    "execution": {
     "iopub.execute_input": "2022-01-24T23:48:45.900297Z",
     "iopub.status.busy": "2022-01-24T23:48:45.899432Z",
     "iopub.status.idle": "2022-01-24T23:48:45.906089Z",
     "shell.execute_reply": "2022-01-24T23:48:45.906599Z",
     "shell.execute_reply.started": "2022-01-24T23:42:01.749885Z"
    },
    "papermill": {
     "duration": 0.031388,
     "end_time": "2022-01-24T23:48:45.906765",
     "exception": false,
     "start_time": "2022-01-24T23:48:45.875377",
     "status": "completed"
    },
    "tags": []
   },
   "outputs": [],
   "source": [
    "def preprocess_holidays(df):\n",
    "    holiday_finland = holidays.CountryHoliday(country='FI', years=[2015, 2016, 2017, 2018, 2019])\n",
    "    holiday_norway = holidays.CountryHoliday(country='NO', years=[2015, 2016, 2017, 2018, 2019])\n",
    "    holiday_sweden = holidays.CountryHoliday(country='SE', years=[2015, 2016, 2017, 2018, 2019])\n",
    "    holidays_fin_nor_swe = holiday_finland.copy()\n",
    "    holidays_fin_nor_swe.update(holiday_norway)\n",
    "    holidays_fin_nor_swe.update(holiday_sweden)\n",
    "    dates = list(holidays_fin_nor_swe.keys())\n",
    "    dates = sorted(pd.to_datetime(dates))\n",
    "    df = df.copy()\n",
    "    df['is_holiday'] = df['date'].apply(lambda x : 1 if x in dates else 0)\n",
    "    return df"
   ]
  },
  {
   "cell_type": "code",
   "execution_count": 10,
   "id": "1e353355",
   "metadata": {
    "execution": {
     "iopub.execute_input": "2022-01-24T23:48:45.954950Z",
     "iopub.status.busy": "2022-01-24T23:48:45.952323Z",
     "iopub.status.idle": "2022-01-24T23:48:45.957670Z",
     "shell.execute_reply": "2022-01-24T23:48:45.957107Z",
     "shell.execute_reply.started": "2022-01-24T23:42:01.760066Z"
    },
    "papermill": {
     "duration": 0.029698,
     "end_time": "2022-01-24T23:48:45.957813",
     "exception": false,
     "start_time": "2022-01-24T23:48:45.928115",
     "status": "completed"
    },
    "tags": []
   },
   "outputs": [],
   "source": [
    "def preprocess_timeseries(df):\n",
    "    df = df.copy()\n",
    "    df['sin_day_of_year'] = np.sin(df['day_of_year'])\n",
    "    df['sin_month'] = np.sin(df['month'])\n",
    "    return df"
   ]
  },
  {
   "cell_type": "code",
   "execution_count": 11,
   "id": "e3577f5a",
   "metadata": {
    "execution": {
     "iopub.execute_input": "2022-01-24T23:48:46.005656Z",
     "iopub.status.busy": "2022-01-24T23:48:46.004971Z",
     "iopub.status.idle": "2022-01-24T23:48:46.007298Z",
     "shell.execute_reply": "2022-01-24T23:48:46.006774Z",
     "shell.execute_reply.started": "2022-01-24T23:42:01.770094Z"
    },
    "papermill": {
     "duration": 0.02815,
     "end_time": "2022-01-24T23:48:46.007431",
     "exception": false,
     "start_time": "2022-01-24T23:48:45.979281",
     "status": "completed"
    },
    "tags": []
   },
   "outputs": [],
   "source": [
    "seed = 47\n",
    "TIMESTEPS = 1\n",
    "warnings.filterwarnings(\"ignore\")"
   ]
  },
  {
   "cell_type": "markdown",
   "id": "4a1ace98",
   "metadata": {
    "papermill": {
     "duration": 0.020967,
     "end_time": "2022-01-24T23:48:46.051609",
     "exception": false,
     "start_time": "2022-01-24T23:48:46.030642",
     "status": "completed"
    },
    "tags": []
   },
   "source": [
    "# Reading the dataset"
   ]
  },
  {
   "cell_type": "code",
   "execution_count": 12,
   "id": "4b71b067",
   "metadata": {
    "execution": {
     "iopub.execute_input": "2022-01-24T23:48:46.099529Z",
     "iopub.status.busy": "2022-01-24T23:48:46.098758Z",
     "iopub.status.idle": "2022-01-24T23:48:46.155919Z",
     "shell.execute_reply": "2022-01-24T23:48:46.155288Z",
     "shell.execute_reply.started": "2022-01-24T23:42:01.778359Z"
    },
    "papermill": {
     "duration": 0.083138,
     "end_time": "2022-01-24T23:48:46.156070",
     "exception": false,
     "start_time": "2022-01-24T23:48:46.072932",
     "status": "completed"
    },
    "tags": []
   },
   "outputs": [],
   "source": [
    "train_df = pd.read_csv(\"/kaggle/input/tabular-playground-series-jan-2022/train.csv\", sep=',')"
   ]
  },
  {
   "cell_type": "markdown",
   "id": "44a410e8",
   "metadata": {
    "papermill": {
     "duration": 0.021152,
     "end_time": "2022-01-24T23:48:46.198932",
     "exception": false,
     "start_time": "2022-01-24T23:48:46.177780",
     "status": "completed"
    },
    "tags": []
   },
   "source": [
    "# Preprocessing"
   ]
  },
  {
   "cell_type": "code",
   "execution_count": 13,
   "id": "ffeccae0",
   "metadata": {
    "execution": {
     "iopub.execute_input": "2022-01-24T23:48:46.245376Z",
     "iopub.status.busy": "2022-01-24T23:48:46.244387Z",
     "iopub.status.idle": "2022-01-24T23:48:47.495977Z",
     "shell.execute_reply": "2022-01-24T23:48:47.495227Z",
     "shell.execute_reply.started": "2022-01-24T23:42:02.435627Z"
    },
    "papermill": {
     "duration": 1.275804,
     "end_time": "2022-01-24T23:48:47.496129",
     "exception": false,
     "start_time": "2022-01-24T23:48:46.220325",
     "status": "completed"
    },
    "tags": []
   },
   "outputs": [],
   "source": [
    "train_df = label_encoder(train_df)\n",
    "train_df = preprocess_dates(train_df)\n",
    "train_df = preprocess_holidays(train_df)\n",
    "train_df = preprocess_timeseries(train_df)\n",
    "x_train = train_df.drop(['row_id', 'date', 'num_sold'], axis=1)\n",
    "y_train = train_df['num_sold']\n",
    "x_train, x_test, y_train, y_test = train_test_split(x_train, y_train, test_size=0.2, random_state=seed, shuffle=False)"
   ]
  },
  {
   "cell_type": "markdown",
   "id": "2800e37a",
   "metadata": {
    "papermill": {
     "duration": 0.0214,
     "end_time": "2022-01-24T23:48:47.538693",
     "exception": false,
     "start_time": "2022-01-24T23:48:47.517293",
     "status": "completed"
    },
    "tags": []
   },
   "source": [
    "<h3>Converte the data to 3D array shape</h3>"
   ]
  },
  {
   "cell_type": "code",
   "execution_count": 14,
   "id": "89fe6840",
   "metadata": {
    "execution": {
     "iopub.execute_input": "2022-01-24T23:48:47.585281Z",
     "iopub.status.busy": "2022-01-24T23:48:47.584246Z",
     "iopub.status.idle": "2022-01-24T23:48:47.660304Z",
     "shell.execute_reply": "2022-01-24T23:48:47.659713Z",
     "shell.execute_reply.started": "2022-01-24T23:42:02.986533Z"
    },
    "papermill": {
     "duration": 0.100437,
     "end_time": "2022-01-24T23:48:47.660461",
     "exception": false,
     "start_time": "2022-01-24T23:48:47.560024",
     "status": "completed"
    },
    "tags": []
   },
   "outputs": [],
   "source": [
    "x_train = np.append(x_train, y_train.values.reshape(-1, 1), axis=1)\n",
    "x_test = np.append(x_test, y_test.values.reshape(-1, 1), axis=1)\n",
    "x_train, y_train = split_sequences(x_train, TIMESTEPS)\n",
    "x_test, y_test = split_sequences(x_test, TIMESTEPS)"
   ]
  },
  {
   "cell_type": "code",
   "execution_count": 15,
   "id": "456c29bb",
   "metadata": {
    "execution": {
     "iopub.execute_input": "2022-01-24T23:48:47.707058Z",
     "iopub.status.busy": "2022-01-24T23:48:47.706350Z",
     "iopub.status.idle": "2022-01-24T23:50:53.058421Z",
     "shell.execute_reply": "2022-01-24T23:50:53.058978Z",
     "shell.execute_reply.started": "2022-01-24T23:42:03.034240Z"
    },
    "papermill": {
     "duration": 125.37708,
     "end_time": "2022-01-24T23:50:53.059175",
     "exception": false,
     "start_time": "2022-01-24T23:48:47.682095",
     "status": "completed"
    },
    "tags": []
   },
   "outputs": [
    {
     "name": "stderr",
     "output_type": "stream",
     "text": [
      "\n",
      "User settings:\n",
      "\n",
      "   KMP_AFFINITY=granularity=fine,verbose,compact,1,0\n",
      "   KMP_BLOCKTIME=0\n",
      "   KMP_DUPLICATE_LIB_OK=True\n",
      "   KMP_INIT_AT_FORK=FALSE\n",
      "   KMP_SETTINGS=1\n",
      "   KMP_WARNINGS=0\n",
      "\n",
      "Effective settings:\n",
      "\n",
      "   KMP_ABORT_DELAY=0\n",
      "   KMP_ADAPTIVE_LOCK_PROPS='1,1024'\n",
      "   KMP_ALIGN_ALLOC=64\n",
      "   KMP_ALL_THREADPRIVATE=128\n",
      "   KMP_ATOMIC_MODE=2\n",
      "   KMP_BLOCKTIME=0\n",
      "   KMP_CPUINFO_FILE: value is not defined\n",
      "   KMP_DETERMINISTIC_REDUCTION=false\n",
      "   KMP_DEVICE_THREAD_LIMIT=2147483647\n",
      "   KMP_DISP_NUM_BUFFERS=7\n",
      "   KMP_DUPLICATE_LIB_OK=true\n",
      "   KMP_ENABLE_TASK_THROTTLING=true\n",
      "   KMP_FORCE_REDUCTION: value is not defined\n",
      "   KMP_FOREIGN_THREADS_THREADPRIVATE=true\n",
      "   KMP_FORKJOIN_BARRIER='2,2'\n",
      "   KMP_FORKJOIN_BARRIER_PATTERN='hyper,hyper'\n",
      "   KMP_GTID_MODE=3\n",
      "   KMP_HANDLE_SIGNALS=false\n",
      "   KMP_HOT_TEAMS_MAX_LEVEL=1\n",
      "   KMP_HOT_TEAMS_MODE=0\n",
      "   KMP_INIT_AT_FORK=true\n",
      "   KMP_LIBRARY=throughput\n",
      "   KMP_LOCK_KIND=queuing\n",
      "   KMP_MALLOC_POOL_INCR=1M\n",
      "   KMP_NUM_LOCKS_IN_BLOCK=1\n",
      "   KMP_PLAIN_BARRIER='2,2'\n",
      "   KMP_PLAIN_BARRIER_PATTERN='hyper,hyper'\n",
      "   KMP_REDUCTION_BARRIER='1,1'\n",
      "   KMP_REDUCTION_BARRIER_PATTERN='hyper,hyper'\n",
      "   KMP_SCHEDULE='static,balanced;guided,iterative'\n",
      "   KMP_SETTINGS=true\n",
      "   KMP_SPIN_BACKOFF_PARAMS='4096,100'\n",
      "   KMP_STACKOFFSET=64\n",
      "   KMP_STACKPAD=0\n",
      "   KMP_STACKSIZE=8M\n",
      "   KMP_STORAGE_MAP=false\n",
      "   KMP_TASKING=2\n",
      "   KMP_TASKLOOP_MIN_TASKS=0\n",
      "   KMP_TASK_STEALING_CONSTRAINT=1\n",
      "   KMP_TEAMS_THREAD_LIMIT=4\n",
      "   KMP_TOPOLOGY_METHOD=all\n",
      "   KMP_USE_YIELD=1\n",
      "   KMP_VERSION=false\n",
      "   KMP_WARNINGS=false\n",
      "   OMP_AFFINITY_FORMAT='OMP: pid %P tid %i thread %n bound to OS proc set {%A}'\n",
      "   OMP_ALLOCATOR=omp_default_mem_alloc\n",
      "   OMP_CANCELLATION=false\n",
      "   OMP_DEFAULT_DEVICE=0\n",
      "   OMP_DISPLAY_AFFINITY=false\n",
      "   OMP_DISPLAY_ENV=false\n",
      "   OMP_DYNAMIC=false\n",
      "   OMP_MAX_ACTIVE_LEVELS=1\n",
      "   OMP_MAX_TASK_PRIORITY=0\n",
      "   OMP_NESTED: deprecated; max-active-levels-var=1\n",
      "   OMP_NUM_THREADS: value is not defined\n",
      "   OMP_PLACES: value is not defined\n",
      "   OMP_PROC_BIND='intel'\n",
      "   OMP_SCHEDULE='static'\n",
      "   OMP_STACKSIZE=8M\n",
      "   OMP_TARGET_OFFLOAD=DEFAULT\n",
      "   OMP_THREAD_LIMIT=2147483647\n",
      "   OMP_WAIT_POLICY=PASSIVE\n",
      "   KMP_AFFINITY='verbose,warnings,respect,granularity=fine,compact,1,0'\n",
      "\n",
      "2022-01-24 23:48:47.744627: I tensorflow/core/common_runtime/process_util.cc:146] Creating new thread pool with default inter op setting: 2. Tune using inter_op_parallelism_threads for best performance.\n",
      "2022-01-24 23:48:48.225746: I tensorflow/compiler/mlir/mlir_graph_optimization_pass.cc:185] None of the MLIR Optimization Passes are enabled (registered 2)\n"
     ]
    },
    {
     "name": "stdout",
     "output_type": "stream",
     "text": [
      "\n",
      "165/165 [==============================] - 1s 3ms/step - loss: 12.7654\n",
      "12.765372276306152\n"
     ]
    }
   ],
   "source": [
    "num_heads=2\n",
    "num_layers_enc=2\n",
    "num_feed_forward=64\n",
    "num_features = x_train.shape[-1]\n",
    "time_steps = TIMESTEPS\n",
    "epochs = 100\n",
    "batch_size = 128\n",
    "\n",
    "model = Transformer(num_hid=num_features,\n",
    "                        time_steps=time_steps,\n",
    "                        time_embedding=True,\n",
    "                        num_head=num_heads,\n",
    "                        num_layers_enc=num_layers_enc,\n",
    "                        num_feed_forward=num_feed_forward)\n",
    "\n",
    "opt = tf.keras.optimizers.Adam()\n",
    "loss = tf.keras.losses.mse\n",
    "model.compile(optimizer=opt, loss=smape)\n",
    "model.fit(x_train, y_train, epochs=epochs, batch_size=batch_size, verbose=0)\n",
    "print()\n",
    "results = model.evaluate(x_test, y_test)\n",
    "print(results)"
   ]
  },
  {
   "cell_type": "markdown",
   "id": "cecf4f00",
   "metadata": {
    "papermill": {
     "duration": 0.025656,
     "end_time": "2022-01-24T23:50:53.111498",
     "exception": false,
     "start_time": "2022-01-24T23:50:53.085842",
     "status": "completed"
    },
    "tags": []
   },
   "source": [
    "# Submission"
   ]
  },
  {
   "cell_type": "code",
   "execution_count": 16,
   "id": "c81b1b95",
   "metadata": {
    "execution": {
     "iopub.execute_input": "2022-01-24T23:50:53.167702Z",
     "iopub.status.busy": "2022-01-24T23:50:53.166923Z",
     "iopub.status.idle": "2022-01-24T23:50:53.376298Z",
     "shell.execute_reply": "2022-01-24T23:50:53.376814Z",
     "shell.execute_reply.started": "2022-01-24T23:47:49.725958Z"
    },
    "papermill": {
     "duration": 0.23947,
     "end_time": "2022-01-24T23:50:53.377005",
     "exception": false,
     "start_time": "2022-01-24T23:50:53.137535",
     "status": "completed"
    },
    "tags": []
   },
   "outputs": [
    {
     "data": {
      "text/plain": [
       "1642"
      ]
     },
     "execution_count": 16,
     "metadata": {},
     "output_type": "execute_result"
    }
   ],
   "source": [
    "del train_df, x_train, y_train, x_test, y_test\n",
    "gc.collect()"
   ]
  },
  {
   "cell_type": "code",
   "execution_count": 17,
   "id": "d6f1a955",
   "metadata": {
    "execution": {
     "iopub.execute_input": "2022-01-24T23:50:53.434521Z",
     "iopub.status.busy": "2022-01-24T23:50:53.433791Z",
     "iopub.status.idle": "2022-01-24T23:50:53.458179Z",
     "shell.execute_reply": "2022-01-24T23:50:53.457469Z",
     "shell.execute_reply.started": "2022-01-24T23:47:50.003280Z"
    },
    "papermill": {
     "duration": 0.05514,
     "end_time": "2022-01-24T23:50:53.458333",
     "exception": false,
     "start_time": "2022-01-24T23:50:53.403193",
     "status": "completed"
    },
    "tags": []
   },
   "outputs": [],
   "source": [
    "test_df = pd.read_csv(\"/kaggle/input/tabular-playground-series-jan-2022/test.csv\", sep=',')"
   ]
  },
  {
   "cell_type": "code",
   "execution_count": 18,
   "id": "4ff7beb9",
   "metadata": {
    "execution": {
     "iopub.execute_input": "2022-01-24T23:50:53.517960Z",
     "iopub.status.busy": "2022-01-24T23:50:53.516928Z",
     "iopub.status.idle": "2022-01-24T23:50:53.890398Z",
     "shell.execute_reply": "2022-01-24T23:50:53.889829Z",
     "shell.execute_reply.started": "2022-01-24T23:47:59.886553Z"
    },
    "papermill": {
     "duration": 0.405844,
     "end_time": "2022-01-24T23:50:53.890575",
     "exception": false,
     "start_time": "2022-01-24T23:50:53.484731",
     "status": "completed"
    },
    "tags": []
   },
   "outputs": [],
   "source": [
    "test_df = label_encoder(test_df)\n",
    "test_df = preprocess_dates(test_df)\n",
    "test_df = preprocess_holidays(test_df)\n",
    "test_df = preprocess_timeseries(test_df)\n",
    "x_test = test_df.drop(['row_id', 'date'], axis=1)\n",
    "x_test = np.append(x_test, np.ones((x_test.shape[0], 1)), axis=1)\n",
    "x_test, _ = split_sequences(x_test, TIMESTEPS)"
   ]
  },
  {
   "cell_type": "code",
   "execution_count": 19,
   "id": "fd3b09a4",
   "metadata": {
    "execution": {
     "iopub.execute_input": "2022-01-24T23:50:53.947276Z",
     "iopub.status.busy": "2022-01-24T23:50:53.946255Z",
     "iopub.status.idle": "2022-01-24T23:50:54.853797Z",
     "shell.execute_reply": "2022-01-24T23:50:54.854303Z",
     "shell.execute_reply.started": "2022-01-24T23:48:01.047205Z"
    },
    "papermill": {
     "duration": 0.937868,
     "end_time": "2022-01-24T23:50:54.854504",
     "exception": false,
     "start_time": "2022-01-24T23:50:53.916636",
     "status": "completed"
    },
    "tags": []
   },
   "outputs": [],
   "source": [
    "target = model.predict(x_test).squeeze()\n",
    "row_id =  test_df['row_id'].values\n",
    "submission = pd.DataFrame({'row_id' : row_id, 'num_sold' : target})"
   ]
  },
  {
   "cell_type": "code",
   "execution_count": 20,
   "id": "23601b23",
   "metadata": {
    "execution": {
     "iopub.execute_input": "2022-01-24T23:50:54.911914Z",
     "iopub.status.busy": "2022-01-24T23:50:54.910767Z",
     "iopub.status.idle": "2022-01-24T23:50:54.925047Z",
     "shell.execute_reply": "2022-01-24T23:50:54.924490Z",
     "shell.execute_reply.started": "2022-01-24T23:48:01.837697Z"
    },
    "papermill": {
     "duration": 0.044149,
     "end_time": "2022-01-24T23:50:54.925200",
     "exception": false,
     "start_time": "2022-01-24T23:50:54.881051",
     "status": "completed"
    },
    "tags": []
   },
   "outputs": [
    {
     "data": {
      "text/html": [
       "<div>\n",
       "<style scoped>\n",
       "    .dataframe tbody tr th:only-of-type {\n",
       "        vertical-align: middle;\n",
       "    }\n",
       "\n",
       "    .dataframe tbody tr th {\n",
       "        vertical-align: top;\n",
       "    }\n",
       "\n",
       "    .dataframe thead th {\n",
       "        text-align: right;\n",
       "    }\n",
       "</style>\n",
       "<table border=\"1\" class=\"dataframe\">\n",
       "  <thead>\n",
       "    <tr style=\"text-align: right;\">\n",
       "      <th></th>\n",
       "      <th>row_id</th>\n",
       "      <th>num_sold</th>\n",
       "    </tr>\n",
       "  </thead>\n",
       "  <tbody>\n",
       "    <tr>\n",
       "      <th>0</th>\n",
       "      <td>26298</td>\n",
       "      <td>340.891266</td>\n",
       "    </tr>\n",
       "    <tr>\n",
       "      <th>1</th>\n",
       "      <td>26299</td>\n",
       "      <td>534.470703</td>\n",
       "    </tr>\n",
       "    <tr>\n",
       "      <th>2</th>\n",
       "      <td>26300</td>\n",
       "      <td>148.460510</td>\n",
       "    </tr>\n",
       "    <tr>\n",
       "      <th>3</th>\n",
       "      <td>26301</td>\n",
       "      <td>629.897522</td>\n",
       "    </tr>\n",
       "    <tr>\n",
       "      <th>4</th>\n",
       "      <td>26302</td>\n",
       "      <td>828.382690</td>\n",
       "    </tr>\n",
       "  </tbody>\n",
       "</table>\n",
       "</div>"
      ],
      "text/plain": [
       "   row_id    num_sold\n",
       "0   26298  340.891266\n",
       "1   26299  534.470703\n",
       "2   26300  148.460510\n",
       "3   26301  629.897522\n",
       "4   26302  828.382690"
      ]
     },
     "execution_count": 20,
     "metadata": {},
     "output_type": "execute_result"
    }
   ],
   "source": [
    "submission.head()"
   ]
  },
  {
   "cell_type": "code",
   "execution_count": 21,
   "id": "da5c3106",
   "metadata": {
    "execution": {
     "iopub.execute_input": "2022-01-24T23:50:54.984715Z",
     "iopub.status.busy": "2022-01-24T23:50:54.983655Z",
     "iopub.status.idle": "2022-01-24T23:50:55.009905Z",
     "shell.execute_reply": "2022-01-24T23:50:55.010480Z",
     "shell.execute_reply.started": "2022-01-24T23:48:01.853915Z"
    },
    "papermill": {
     "duration": 0.059022,
     "end_time": "2022-01-24T23:50:55.010717",
     "exception": false,
     "start_time": "2022-01-24T23:50:54.951695",
     "status": "completed"
    },
    "tags": []
   },
   "outputs": [],
   "source": [
    "submission.to_csv('submission.csv', index=False)"
   ]
  },
  {
   "cell_type": "code",
   "execution_count": null,
   "id": "bb37b5fc",
   "metadata": {
    "papermill": {
     "duration": 0.026154,
     "end_time": "2022-01-24T23:50:55.063450",
     "exception": false,
     "start_time": "2022-01-24T23:50:55.037296",
     "status": "completed"
    },
    "tags": []
   },
   "outputs": [],
   "source": []
  }
 ],
 "metadata": {
  "kernelspec": {
   "display_name": "Python 3.7.5 64-bit",
   "language": "python",
   "name": "python3"
  },
  "language_info": {
   "codemirror_mode": {
    "name": "ipython",
    "version": 3
   },
   "file_extension": ".py",
   "mimetype": "text/x-python",
   "name": "python",
   "nbconvert_exporter": "python",
   "pygments_lexer": "ipython3",
   "version": "3.7.5"
  },
  "papermill": {
   "default_parameters": {},
   "duration": 149.77781,
   "end_time": "2022-01-24T23:50:58.203032",
   "environment_variables": {},
   "exception": null,
   "input_path": "__notebook__.ipynb",
   "output_path": "__notebook__.ipynb",
   "parameters": {},
   "start_time": "2022-01-24T23:48:28.425222",
   "version": "2.3.3"
  },
  "vscode": {
   "interpreter": {
    "hash": "31f2aee4e71d21fbe5cf8b01ff0e069b9275f58929596ceb00d14d90e3e16cd6"
   }
  }
 },
 "nbformat": 4,
 "nbformat_minor": 5
}
